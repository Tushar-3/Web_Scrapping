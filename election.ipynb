{
 "cells": [
  {
   "cell_type": "code",
   "execution_count": 47,
   "metadata": {},
   "outputs": [
    {
     "data": {
      "text/plain": [
       "<tr style=\"font-size:12px;font-weight:bold;\">\n",
       "<td align=\"left\">All India Anna Dravida Munnetra Kazhagam</td><td align=\"center\">1</td><td align=\"center\">0</td>\n",
       "<td align=\"center\">1</td>\n",
       "</tr>"
      ]
     },
     "execution_count": 47,
     "metadata": {},
     "output_type": "execute_result"
    }
   ],
   "source": [
    "import requests\n",
    "from bs4 import BeautifulSoup\n",
    "import re\n",
    "\n",
    "raw_data=requests.get(\"http://results.eci.gov.in/pc/en/partywise/index.htm\").content\n",
    "sp=BeautifulSoup(raw_data,\"lxml\")\n",
    "g=sp.find_all(\"table\",{\"class\":\"table-party\"})\n",
    "trs = g[0].find_all(\"tr\")\n",
    "#trs[5]\n"
   ]
  },
  {
   "cell_type": "code",
   "execution_count": 71,
   "metadata": {},
   "outputs": [
    {
     "name": "stdout",
     "output_type": "stream",
     "text": [
      "Aam Aadmi Party, 1\n",
      "\n",
      "AJSU Party, 1\n",
      "\n",
      "All India Anna Dravida Munnetra Kazhagam, 1\n",
      "\n",
      "All India Majlis-E-Ittehadul Muslimeen, 2\n",
      "\n",
      "All India Trinamool Congress, 22\n",
      "\n",
      "All India United Democratic Front, 1\n",
      "\n",
      "Bahujan Samaj Party, 10\n",
      "\n",
      "Bharatiya Janata Party, 303\n",
      "\n",
      "Biju Janata Dal, 12\n",
      "\n",
      "Communist Party of India, 2\n",
      "\n",
      "Communist Party of India  (Marxist), 3\n",
      "\n",
      "Dravida Munnetra Kazhagam, 23\n",
      "\n",
      "Indian National Congress, 52\n",
      "\n",
      "Indian Union Muslim League, 3\n",
      "\n",
      "Jammu & Kashmir National Conference, 3\n",
      "\n",
      "Janata Dal  (Secular), 1\n",
      "\n",
      "Janata Dal  (United), 16\n",
      "\n",
      "Jharkhand Mukti Morcha, 1\n",
      "\n",
      "Kerala Congress  (M), 1\n",
      "\n",
      "Lok Jan Shakti Party, 6\n",
      "\n",
      "Mizo National Front, 1\n",
      "\n",
      "Naga Peoples Front, 1\n",
      "\n",
      "National People's Party, 1\n",
      "\n",
      "Nationalist Congress Party, 5\n",
      "\n",
      "Nationalist Democratic Progressive Party, 1\n",
      "\n",
      "Revolutionary Socialist Party, 1\n",
      "\n",
      "Samajwadi Party, 5\n",
      "\n",
      "Shiromani Akali Dal, 2\n",
      "\n",
      "Shivsena, 18\n",
      "\n",
      "Sikkim Krantikari Morcha, 1\n",
      "\n",
      "Telangana Rashtra Samithi, 9\n",
      "\n",
      "Telugu Desam, 3\n",
      "\n",
      "Yuvajana Sramika Rythu Congress Party, 22\n",
      "\n",
      "Other, 8\n",
      "\n",
      "Total, 542\n",
      "\n"
     ]
    }
   ],
   "source": [
    "gh=\"Party, Won\\n\"\n",
    "with open(\"elec.csv\",\"a\") as ele:\n",
    "            ele.write(gh)\n",
    "\n",
    "\n",
    "for tr in trs[1:]:\n",
    "    try:\n",
    "        \n",
    "        head=tr.find_all('td')[0].text\n",
    "        head1=tr.find_all('td')[1].text\n",
    "        head2=tr.find_all('td')[2].text\n",
    "        #print(head)\n",
    "#         dec=tr.find_all('')[0].text\n",
    "#         dec=re.sub(r',', ' ', dec)\n",
    "        \n",
    "#         final_str=head+\", \"+dec+\"\\n\"\n",
    "        final=head+\", \"+head1+\"\\n\"\n",
    "        print(final)\n",
    "        with open(\"elec.csv\",\"a\") as ele:\n",
    "            ele.write(final)\n",
    "    except:\n",
    "        pass"
   ]
  },
  {
   "cell_type": "code",
   "execution_count": null,
   "metadata": {},
   "outputs": [],
   "source": []
  },
  {
   "cell_type": "code",
   "execution_count": null,
   "metadata": {},
   "outputs": [],
   "source": []
  },
  {
   "cell_type": "code",
   "execution_count": 72,
   "metadata": {},
   "outputs": [
    {
     "data": {
      "text/plain": [
       "194.87171000000015"
      ]
     },
     "execution_count": 72,
     "metadata": {},
     "output_type": "execute_result"
    }
   ],
   "source": [
    "100*1.1*1.1*1.1*1.1*1.1*1.1*1.1\n"
   ]
  },
  {
   "cell_type": "code",
   "execution_count": 77,
   "metadata": {},
   "outputs": [
    {
     "data": {
      "text/plain": [
       "121.00000000000003"
      ]
     },
     "execution_count": 77,
     "metadata": {},
     "output_type": "execute_result"
    }
   ],
   "source": [
    "100*1.1*1.1#*1.1"
   ]
  },
  {
   "cell_type": "code",
   "execution_count": 79,
   "metadata": {},
   "outputs": [
    {
     "data": {
      "text/plain": [
       "330.00000000000006"
      ]
     },
     "execution_count": 79,
     "metadata": {},
     "output_type": "execute_result"
    }
   ],
   "source": []
  },
  {
   "cell_type": "code",
   "execution_count": null,
   "metadata": {},
   "outputs": [],
   "source": []
  }
 ],
 "metadata": {
  "kernelspec": {
   "display_name": "Python 3",
   "language": "python",
   "name": "python3"
  },
  "language_info": {
   "codemirror_mode": {
    "name": "ipython",
    "version": 3
   },
   "file_extension": ".py",
   "mimetype": "text/x-python",
   "name": "python",
   "nbconvert_exporter": "python",
   "pygments_lexer": "ipython3",
   "version": "3.7.3"
  }
 },
 "nbformat": 4,
 "nbformat_minor": 2
}
